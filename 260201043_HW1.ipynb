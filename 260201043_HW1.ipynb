{
  "cells": [
    {
      "cell_type": "markdown",
      "id": "acbf649c",
      "metadata": {
        "id": "acbf649c"
      },
      "source": [
        "# Homework #1   Due date: 27 October 2022, 11:59 PM"
      ]
    },
    {
      "cell_type": "markdown",
      "id": "53be3fbb",
      "metadata": {
        "id": "53be3fbb"
      },
      "source": [
        "## Q1) One feature regression for Boston data. \n",
        "Choose one of the features in Boston data, try to select one that is mostly correlated (or inversely correlated) with the target. Fit a line with linear regression (you can use built-in LinearRegression() method). What is the equation of the fitting line? Please plot your data points (chosen feature vs. target) and plot your fitting line on it."
      ]
    },
    {
      "cell_type": "code",
      "execution_count": 1,
      "id": "b2472d55",
      "metadata": {
        "id": "b2472d55"
      },
      "outputs": [],
      "source": [
        "import pandas as pd\n",
        "import numpy as np\n",
        "from matplotlib import pyplot\n",
        "from sklearn import datasets\n",
        "from sklearn.linear_model import LinearRegression"
      ]
    },
    {
      "cell_type": "code",
      "execution_count": 14,
      "id": "08efeb9d",
      "metadata": {
        "colab": {
          "base_uri": "https://localhost:8080/"
        },
        "id": "08efeb9d",
        "outputId": "3be7e0a8-70d0-4a99-e646-d6766b2a4ef8"
      },
      "outputs": [
        {
          "output_type": "stream",
          "name": "stderr",
          "text": [
            "/usr/local/lib/python3.7/dist-packages/sklearn/utils/deprecation.py:87: FutureWarning: Function load_boston is deprecated; `load_boston` is deprecated in 1.0 and will be removed in 1.2.\n",
            "\n",
            "    The Boston housing prices dataset has an ethical problem. You can refer to\n",
            "    the documentation of this function for further details.\n",
            "\n",
            "    The scikit-learn maintainers therefore strongly discourage the use of this\n",
            "    dataset unless the purpose of the code is to study and educate about\n",
            "    ethical issues in data science and machine learning.\n",
            "\n",
            "    In this special case, you can fetch the dataset from the original\n",
            "    source::\n",
            "\n",
            "        import pandas as pd\n",
            "        import numpy as np\n",
            "\n",
            "\n",
            "        data_url = \"http://lib.stat.cmu.edu/datasets/boston\"\n",
            "        raw_df = pd.read_csv(data_url, sep=\"\\s+\", skiprows=22, header=None)\n",
            "        data = np.hstack([raw_df.values[::2, :], raw_df.values[1::2, :2]])\n",
            "        target = raw_df.values[1::2, 2]\n",
            "\n",
            "    Alternative datasets include the California housing dataset (i.e.\n",
            "    :func:`~sklearn.datasets.fetch_california_housing`) and the Ames housing\n",
            "    dataset. You can load the datasets as follows::\n",
            "\n",
            "        from sklearn.datasets import fetch_california_housing\n",
            "        housing = fetch_california_housing()\n",
            "\n",
            "    for the California housing dataset and::\n",
            "\n",
            "        from sklearn.datasets import fetch_openml\n",
            "        housing = fetch_openml(name=\"house_prices\", as_frame=True)\n",
            "\n",
            "    for the Ames housing dataset.\n",
            "    \n",
            "  warnings.warn(msg, category=FutureWarning)\n"
          ]
        }
      ],
      "source": [
        "data = datasets.load_boston()  #load dataset"
      ]
    },
    {
      "cell_type": "code",
      "execution_count": 13,
      "id": "ee5d537c",
      "metadata": {
        "colab": {
          "base_uri": "https://localhost:8080/",
          "height": 282
        },
        "id": "ee5d537c",
        "outputId": "2bc181b7-723b-431c-bae3-9be76d91393c"
      },
      "outputs": [
        {
          "output_type": "execute_result",
          "data": {
            "text/plain": [
              "<matplotlib.collections.PathCollection at 0x7ff554c165d0>"
            ]
          },
          "metadata": {},
          "execution_count": 13
        },
        {
          "output_type": "display_data",
          "data": {
            "text/plain": [
              "<Figure size 432x288 with 1 Axes>"
            ],
            "image/png": "[encoded data removed]"
          },
          "metadata": {
            "needs_background": "light"
          }
        }
      ],
      "source": [
        "housing_df = pd.DataFrame(data=np.c_[data['data'], data['target']],columns= list(data['feature_names']) + ['target'])\n",
        "lstat = housing_df[\"LSTAT\"]  #select 'LSTAT' for feature\n",
        "target = data[\"target\"]\n",
        "pyplot.scatter(lstat, target, marker = \"o\")  # puts the points"
      ]
    },
    {
      "cell_type": "code",
      "execution_count": 11,
      "id": "2250bb20",
      "metadata": {
        "colab": {
          "base_uri": "https://localhost:8080/"
        },
        "id": "2250bb20",
        "outputId": "1335d2d9-3f10-44f3-c26c-aa7025b68a1b"
      },
      "outputs": [
        {
          "output_type": "stream",
          "name": "stdout",
          "text": [
            "0.5441462975864797\n"
          ]
        },
        {
          "output_type": "stream",
          "name": "stderr",
          "text": [
            "/usr/local/lib/python3.7/dist-packages/sklearn/utils/validation.py:1692: FutureWarning: Feature names only support names that are all strings. Got feature names with dtypes: ['str_']. An error will be raised in 1.2.\n",
            "  FutureWarning,\n",
            "/usr/local/lib/python3.7/dist-packages/sklearn/utils/validation.py:1692: FutureWarning: Feature names only support names that are all strings. Got feature names with dtypes: ['str_']. An error will be raised in 1.2.\n",
            "  FutureWarning,\n"
          ]
        }
      ],
      "source": [
        "lr = LinearRegression()\n",
        "X = housing_df[['LSTAT']]\n",
        "y = housing_df['target']\n",
        "lr.fit(X,y)\n",
        "print(lr.score(X,y))\n"
      ]
    },
    {
      "cell_type": "code",
      "execution_count": 15,
      "id": "7bbf3f98",
      "metadata": {
        "colab": {
          "base_uri": "https://localhost:8080/",
          "height": 282
        },
        "id": "7bbf3f98",
        "outputId": "2ce05049-79ed-41d0-95fb-939c8c109c63"
      },
      "outputs": [
        {
          "output_type": "execute_result",
          "data": {
            "text/plain": [
              "<matplotlib.collections.PathCollection at 0x7ff554b8d390>"
            ]
          },
          "metadata": {},
          "execution_count": 15
        },
        {
          "output_type": "display_data",
          "data": {
            "text/plain": [
              "<Figure size 432x288 with 1 Axes>"
            ],
            "image/png": "[encoded data removed]"
          },
          "metadata": {
            "needs_background": "light"
          }
        }
      ],
      "source": [
        "f = lambda x: lr.coef_[0] * x + lr.intercept_  #equation of the fitting line\n",
        "steps = list(np.arange(min(lstat),max(lstat),.25))   # x-coordinate\n",
        "fitline = list(map(f, steps))       # y-coordinate\n",
        "pyplot.plot(steps, fitline, color='green')  #it just plots the line\n",
        "pyplot.scatter(lstat, target)    # puts the points"
      ]
    },
    {
      "cell_type": "markdown",
      "id": "4e0787fa",
      "metadata": {
        "id": "4e0787fa"
      },
      "source": [
        "## Q2) Another metric for performance evaluation\n",
        "We have seen that LinearRegression() by *sklearn* provides a method called *score* which outputs a value with a maximum of 1 (the larger the better), which is good to evaluate the performance. \n",
        "Another common performance metric is mean sum of squared error (MSE):\n",
        "\n",
        "$$\\frac{1}{m} \\sum_{i=1}^m \\left(\\underbrace{\\theta^T x^{(i)}}_{\\text{Prediction}} - \\underbrace{y^{(i)}}_{\\text{Target}}\\right)^2$$\n",
        "\n",
        "Please implement this metric and compute it when Boston data with all features are used. lr.score gave 0.74. What is the MSE?\n",
        "\n",
        "Important restriction: Do NOT use *mean_squared_error* module from *sklearn.metrics*."
      ]
    },
    {
      "cell_type": "code",
      "execution_count": 16,
      "id": "cb3b861c",
      "metadata": {
        "id": "cb3b861c"
      },
      "outputs": [],
      "source": [
        "def mse(y_pred, y_true):   #calculate mean square error \n",
        "  return np.sum((y_pred - y_true) * (y_pred - y_true))/(len(y_pred))\n",
        "\n"
      ]
    },
    {
      "cell_type": "code",
      "execution_count": 17,
      "id": "02def22f",
      "metadata": {
        "id": "02def22f",
        "colab": {
          "base_uri": "https://localhost:8080/"
        },
        "outputId": "078ec4f9-0e53-4f7d-cc07-7f982bb7bfa2"
      },
      "outputs": [
        {
          "output_type": "stream",
          "name": "stdout",
          "text": [
            "21.894831181729202\n"
          ]
        }
      ],
      "source": [
        "lr_mse = LinearRegression()\n",
        "X_mse = data['data']   #all features\n",
        "y_mse =  data['target']\n",
        "lr_mse.fit(X_mse,y_mse)\n",
        "X_mse_predict = lr_mse.predict(X_mse) #Predictions must be made before the mean square error is calculated.\n",
        "print(mse(X_mse_predict, y_mse))"
      ]
    },
    {
      "cell_type": "markdown",
      "id": "608e9591",
      "metadata": {
        "id": "608e9591"
      },
      "source": [
        "## Q3) Splitting the dataset\n",
        "In the lecture we did training and evaluation (score) on the whole Boston dataset. This is bad. Use the code in Week 1 Python Notebook to:\n",
        "- shuffle the data,\n",
        "- select 60% of the data as a training set (do the line fitting), 40% as a test set,\n",
        "- what is the score on the test data?\n",
        "- what is the mean squared error?"
      ]
    },
    {
      "cell_type": "code",
      "execution_count": 18,
      "id": "ee8a2e74",
      "metadata": {
        "colab": {
          "base_uri": "https://localhost:8080/"
        },
        "id": "ee8a2e74",
        "outputId": "b5dba809-dc97-4186-ed48-65f5391f8b12"
      },
      "outputs": [
        {
          "output_type": "stream",
          "name": "stdout",
          "text": [
            "X_train shape: (303, 13)\n",
            "y_train shape: (303,)\n",
            "X_test shape: (203, 13)\n",
            "y_test shape: (203,)\n"
          ]
        }
      ],
      "source": [
        "from sklearn.model_selection import train_test_split\n",
        "X_train, X_test, y_train, y_test = train_test_split(\n",
        "    data['data'], data['target'], random_state=0, train_size=0.6, test_size=0.4)  #shuflling the data\n",
        "\n",
        "print(\"X_train shape:\", X_train.shape)\n",
        "print(\"y_train shape:\", y_train.shape)\n",
        "\n",
        "print(\"X_test shape:\", X_test.shape)\n",
        "print(\"y_test shape:\", y_test.shape)"
      ]
    },
    {
      "cell_type": "code",
      "execution_count": 19,
      "id": "63ab6ba3",
      "metadata": {
        "colab": {
          "base_uri": "https://localhost:8080/"
        },
        "id": "63ab6ba3",
        "outputId": "c6e4f450-8735-4e88-b0a2-eb2531e3e838"
      },
      "outputs": [
        {
          "output_type": "execute_result",
          "data": {
            "text/plain": [
              "LinearRegression()"
            ]
          },
          "metadata": {},
          "execution_count": 19
        }
      ],
      "source": [
        "lr_shuffle = LinearRegression()\n",
        "lr_shuffle.fit(X_train, y_train)"
      ]
    },
    {
      "cell_type": "code",
      "execution_count": 20,
      "id": "49a15a2f",
      "metadata": {
        "colab": {
          "base_uri": "https://localhost:8080/"
        },
        "id": "49a15a2f",
        "outputId": "f403baee-7bd1-49ea-e4ff-e681de11a7b8"
      },
      "outputs": [
        {
          "output_type": "stream",
          "name": "stdout",
          "text": [
            "0.688260714253802\n"
          ]
        }
      ],
      "source": [
        "print(lr_shuffle.score(X_test,y_test))"
      ]
    },
    {
      "cell_type": "code",
      "execution_count": 22,
      "id": "9257d109",
      "metadata": {
        "id": "9257d109",
        "colab": {
          "base_uri": "https://localhost:8080/"
        },
        "outputId": "b05d68b0-60ce-4498-812f-192a3d245b74"
      },
      "outputs": [
        {
          "output_type": "stream",
          "name": "stdout",
          "text": [
            "25.790362150702443\n"
          ]
        }
      ],
      "source": [
        "y_test_pred = lr_shuffle.predict(X_test)\n",
        "print(mse(y_test_pred, y_test))"
      ]
    }
  ],
  "metadata": {
    "kernelspec": {
      "display_name": "Python 3 (ipykernel)",
      "language": "python",
      "name": "python3"
    },
    "language_info": {
      "codemirror_mode": {
        "name": "ipython",
        "version": 3
      },
      "file_extension": ".py",
      "mimetype": "text/x-python",
      "name": "python",
      "nbconvert_exporter": "python",
      "pygments_lexer": "ipython3",
      "version": "3.8.10"
    },
    "colab": {
      "provenance": [],
      "collapsed_sections": []
    }
  },
  "nbformat": 4,
  "nbformat_minor": 5
}